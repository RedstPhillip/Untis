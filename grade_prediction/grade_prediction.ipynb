{
 "cells": [
  {
   "metadata": {
    "ExecuteTime": {
     "end_time": "2025-01-14T23:55:24.509282Z",
     "start_time": "2025-01-14T23:55:24.500778Z"
    }
   },
   "cell_type": "code",
   "source": [
    "import pandas as pd\n",
    "import numpy as np\n",
    "import json"
   ],
   "id": "9008e82926707520",
   "outputs": [],
   "execution_count": 199
  },
  {
   "metadata": {},
   "cell_type": "markdown",
   "source": "### Calculate the Model Inputs",
   "id": "514db85f6888f2ef"
  },
  {
   "metadata": {
    "ExecuteTime": {
     "end_time": "2025-01-14T23:55:24.538729Z",
     "start_time": "2025-01-14T23:55:24.526733Z"
    }
   },
   "cell_type": "code",
   "source": [
    "def get_inputs(Fach):\n",
    "    data = pd.read_csv(\"training_data.csv\")\n",
    "    X_train = []\n",
    "    Y_train = []\n",
    "    for i in range(len(data)):\n",
    "        study_time = data['studied'].values[i]\n",
    "        missing_hours = data['missing'].values[i]\n",
    "        last_results = data[f\"{Fach}_last\"].values[i]\n",
    "        trend = calculate_trend(data[f\"{Fach}\"].values[i])\n",
    "\n",
    "        X_train.append([study_time, missing_hours, last_results, trend])\n",
    "        Y_train.append(data['solution'].values[i])\n",
    "\n",
    "\n",
    "\n",
    "    X_train = np.array(X_train)\n",
    "    Y_train = np.array(Y_train)\n",
    "\n",
    "    #print(X_train.shape)\n",
    "    print(X_train[1][3])\n",
    "    print(Y_train[1])\n",
    "    #return X_train, Y_train\n",
    "\n"
   ],
   "id": "80c423b5dfd089a",
   "outputs": [],
   "execution_count": 200
  },
  {
   "metadata": {},
   "cell_type": "markdown",
   "source": [
    "### Calculate the Trend\n",
    "#### Formula:\n",
    "##### $Trend = α ⋅ Grade_t + (1 − α) ⋅ EWMA_(t−1)$"
   ],
   "id": "559cce203bc9bf28"
  },
  {
   "metadata": {
    "ExecuteTime": {
     "end_time": "2025-01-14T23:55:24.577756Z",
     "start_time": "2025-01-14T23:55:24.562539Z"
    }
   },
   "cell_type": "code",
   "source": [
    "def calculate_trend(grades):\n",
    "    grades = json.loads(grades)\n",
    "    #print(grades)\n",
    "    # Smoothing factor\n",
    "    alpha = 0.6\n",
    "    ewma = grades[0]\n",
    "    for grade in grades[1:]:\n",
    "        ewma = alpha * grade + (1 - alpha) * ewma\n",
    "\n",
    "    #print(ewma)\n",
    "    return ewma\n",
    "\n",
    "get_inputs(\"Math\")"
   ],
   "id": "588547c8f925568a",
   "outputs": [
    {
     "name": "stdout",
     "output_type": "stream",
     "text": [
      "58.011199999999995\n",
      "72\n"
     ]
    }
   ],
   "execution_count": 201
  }
 ],
 "metadata": {
  "kernelspec": {
   "display_name": "Python 3",
   "language": "python",
   "name": "python3"
  },
  "language_info": {
   "codemirror_mode": {
    "name": "ipython",
    "version": 2
   },
   "file_extension": ".py",
   "mimetype": "text/x-python",
   "name": "python",
   "nbconvert_exporter": "python",
   "pygments_lexer": "ipython2",
   "version": "2.7.6"
  }
 },
 "nbformat": 4,
 "nbformat_minor": 5
}
